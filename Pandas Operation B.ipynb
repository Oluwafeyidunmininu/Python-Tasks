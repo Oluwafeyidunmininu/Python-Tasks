{
 "cells": [
  {
   "cell_type": "markdown",
   "id": "1035fc66-cf4c-4e1e-992f-89deb97d054a",
   "metadata": {},
   "source": [
    "# Pandas Operations 1"
   ]
  },
  {
   "cell_type": "code",
   "execution_count": 10,
   "id": "1778ccd8-5615-459b-9449-0f2b3e70e87e",
   "metadata": {},
   "outputs": [],
   "source": [
    "#Loading  the dataset\n",
    "import pandas as pd \n",
    "df =pd.read_csv('Desktop/data analysis world/python/pandas/Pandas_practice.csv')"
   ]
  },
  {
   "cell_type": "code",
   "execution_count": 20,
   "id": "f953f1fc-cb5e-4177-9a19-c4ba1d141529",
   "metadata": {},
   "outputs": [
    {
     "name": "stdout",
     "output_type": "stream",
     "text": [
      "   CustomerID CustomerName  Gender  Age  Product     Category  Price  \\\n",
      "0           1        Alice  Female   28   Laptop  Electronics   1000   \n",
      "1           2          Bob    Male   34    Chair    Furniture    150   \n",
      "2           3      Charlie    Male   29    Phone  Electronics    800   \n",
      "3           4        Daisy  Female   22     Desk    Furniture    300   \n",
      "4           5          Eve  Female   40  Monitor  Electronics    200   \n",
      "\n",
      "   Quantity PurchaseDate  Unnamed: 9  Unnamed: 10 Unnamed: 11  \n",
      "0         1    1/10/2024         NaN         28.0       Alice  \n",
      "1         2    2/15/2024         NaN          NaN         NaN  \n",
      "2         1    3/18/2024         NaN          NaN         NaN  \n",
      "3         1    4/20/2024         NaN          NaN         NaN  \n",
      "4         3    5/25/2024         NaN          NaN         NaN  \n"
     ]
    }
   ],
   "source": [
    "#Checking the structure of the data\n",
    "print(df.head())"
   ]
  },
  {
   "cell_type": "code",
   "execution_count": 12,
   "id": "5aff8d61-3894-44ea-a0be-fba08fbe81a9",
   "metadata": {},
   "outputs": [
    {
     "name": "stdout",
     "output_type": "stream",
     "text": [
      "<bound method DataFrame.info of    CustomerID CustomerName  Gender  Age  Product     Category  Price  \\\n",
      "0           1        Alice  Female   28   Laptop  Electronics   1000   \n",
      "1           2          Bob    Male   34    Chair    Furniture    150   \n",
      "2           3      Charlie    Male   29    Phone  Electronics    800   \n",
      "3           4        Daisy  Female   22     Desk    Furniture    300   \n",
      "4           5          Eve  Female   40  Monitor  Electronics    200   \n",
      "5           6        Frank    Male   45     Sofa    Furniture    500   \n",
      "6           7        Grace  Female   31       TV  Electronics    700   \n",
      "7           8         Hank    Male   27      Bed    Furniture    400   \n",
      "\n",
      "   Quantity PurchaseDate  Unnamed: 9  Unnamed: 10 Unnamed: 11  \n",
      "0         1    1/10/2024         NaN         28.0       Alice  \n",
      "1         2    2/15/2024         NaN          NaN         NaN  \n",
      "2         1    3/18/2024         NaN          NaN         NaN  \n",
      "3         1    4/20/2024         NaN          NaN         NaN  \n",
      "4         3    5/25/2024         NaN          NaN         NaN  \n",
      "5         1     6/1/2024         NaN          NaN         NaN  \n",
      "6         2     7/7/2024         NaN          NaN         NaN  \n",
      "7         1    8/12/2024         NaN          NaN         NaN  >\n"
     ]
    }
   ],
   "source": [
    "#View the first few rows\n",
    "print(df.info)"
   ]
  },
  {
   "cell_type": "code",
   "execution_count": 26,
   "id": "5a5fc161-97c6-4f99-b548-dd37e1fcd18e",
   "metadata": {},
   "outputs": [
    {
     "name": "stdout",
     "output_type": "stream",
     "text": [
      "       CustomerID        Age        Price  Quantity  Unnamed: 9  Unnamed: 10\n",
      "count     8.00000   8.000000     8.000000  8.000000         0.0          1.0\n",
      "mean      4.50000  32.000000   506.250000  1.500000         NaN         28.0\n",
      "std       2.44949   7.445037   302.887886  0.755929         NaN          NaN\n",
      "min       1.00000  22.000000   150.000000  1.000000         NaN         28.0\n",
      "25%       2.75000  27.750000   275.000000  1.000000         NaN         28.0\n",
      "50%       4.50000  30.000000   450.000000  1.000000         NaN         28.0\n",
      "75%       6.25000  35.500000   725.000000  2.000000         NaN         28.0\n",
      "max       8.00000  45.000000  1000.000000  3.000000         NaN         28.0\n"
     ]
    }
   ],
   "source": [
    "#Checking the Basic statistics of the data\n",
    "print(df.describe())"
   ]
  },
  {
   "cell_type": "code",
   "execution_count": 66,
   "id": "ba638043-407f-4cce-b2c7-8b9eb09754cc",
   "metadata": {},
   "outputs": [
    {
     "name": "stdout",
     "output_type": "stream",
     "text": [
      "Category\n",
      "Electronics    2700\n",
      "Furniture      1350\n",
      "Name: TotalSales, dtype: int64\n"
     ]
    }
   ],
   "source": [
    "#Grouping the data \n",
    "total_sales_by_category = df.groupby('Category')['TotalSales'].sum() \n",
    "print(total_sales_by_category) \n"
   ]
  },
  {
   "cell_type": "code",
   "execution_count": 62,
   "id": "08084704-3424-4c82-b978-9ded4a6a6bc7",
   "metadata": {},
   "outputs": [
    {
     "name": "stdout",
     "output_type": "stream",
     "text": [
      "   CustomerID CustomerName Gender  Age Product     Category  Price  Quantity  \\\n",
      "1           2          Bob   Male   34   Chair    Furniture    150         2   \n",
      "2           3      Charlie   Male   29   Phone  Electronics    800         1   \n",
      "5           6        Frank   Male   45    Sofa    Furniture    500         1   \n",
      "7           8         Hank   Male   27     Bed    Furniture    400         1   \n",
      "\n",
      "  PurchaseDate  Unnamed: 9  Unnamed: 10 Unnamed: 11  TotalSales  \n",
      "1    2/15/2024         NaN          NaN         NaN         150  \n",
      "2    3/18/2024         NaN          NaN         NaN         800  \n",
      "5     6/1/2024         NaN          NaN         NaN         500  \n",
      "7    8/12/2024         NaN          NaN         NaN         400  \n"
     ]
    }
   ],
   "source": [
    "#Filtering rows for males \n",
    "males = df[df['Gender'] =='Male']\n",
    "print(males) \n"
   ]
  },
  {
   "cell_type": "code",
   "execution_count": 78,
   "id": "37cc7b6e-3668-4a11-863c-e570d236697b",
   "metadata": {},
   "outputs": [
    {
     "name": "stdout",
     "output_type": "stream",
     "text": [
      "   CustomerID CustomerName  Gender  Age Product     Category  Price  Quantity  \\\n",
      "0           1        Alice  Female   28  Laptop  Electronics   1000         1   \n",
      "\n",
      "  PurchaseDate  Unnamed: 9  Unnamed: 10 Unnamed: 11  TotalSales  \n",
      "0    1/10/2024         NaN         28.0       Alice        1000  \n"
     ]
    }
   ],
   "source": [
    "#Find the most expensive product sold\n",
    "most_expensive =  df[df['Price'] == df['Price'].max()] \n",
    "print(most_expensive) \n",
    "\n"
   ]
  },
  {
   "cell_type": "code",
   "execution_count": 82,
   "id": "66cff20b-c312-4266-af17-f986cbde27ed",
   "metadata": {},
   "outputs": [
    {
     "name": "stdout",
     "output_type": "stream",
     "text": [
      "   CustomerID CustomerName  Gender  Age  Product     Category  Price  \\\n",
      "0           1        Alice  Female   28   Laptop  Electronics   1000   \n",
      "1           2          Bob    Male   34    Chair    Furniture    150   \n",
      "2           3      Charlie    Male   29    Phone  Electronics    800   \n",
      "3           4        Daisy  Female   22     Desk    Furniture    300   \n",
      "4           5          Eve  Female   40  Monitor  Electronics    200   \n",
      "5           6        Frank    Male   45     Sofa    Furniture    500   \n",
      "6           7        Grace  Female   31       TV  Electronics    700   \n",
      "7           8         Hank    Male   27      Bed    Furniture    400   \n",
      "\n",
      "   Quantity PurchaseDate  Unnamed: 9  Unnamed: 10 Unnamed: 11  TotalSales  \n",
      "0         1    1/10/2024         NaN         28.0       Alice        1000  \n",
      "1         2    2/15/2024         NaN          NaN         NaN         150  \n",
      "2         1    3/18/2024         NaN          NaN         NaN         800  \n",
      "3         1    4/20/2024         NaN          NaN         NaN         300  \n",
      "4         3    5/25/2024         NaN          NaN         NaN         200  \n",
      "5         1     6/1/2024         NaN          NaN         NaN         500  \n",
      "6         2     7/7/2024         NaN          NaN         NaN         700  \n",
      "7         1    8/12/2024         NaN          NaN         NaN         400  \n"
     ]
    }
   ],
   "source": [
    "#Sorting the data by PurchaseDate\n",
    "sorted_df = df.sort_values(by='PurchaseDate')\n",
    "print(sorted_df) "
   ]
  },
  {
   "cell_type": "code",
   "execution_count": 84,
   "id": "45362394-8c79-4d2f-9023-9ce4db790115",
   "metadata": {},
   "outputs": [
    {
     "name": "stdout",
     "output_type": "stream",
     "text": [
      "   CustomerID CustomerName  Gender  Age  Product     Category  Price  \\\n",
      "0           1        Alice  Female   28   Laptop  Electronics   1000   \n",
      "1           2          Bob    Male   34    Chair    Furniture    150   \n",
      "2           3      Charlie    Male   29    Phone  Electronics    800   \n",
      "3           4        Daisy  Female   22     Desk    Furniture    300   \n",
      "4           5          Eve  Female   40  Monitor  Electronics    200   \n",
      "5           6        Frank    Male   45     Sofa    Furniture    500   \n",
      "6           7        Grace  Female   31       TV  Electronics    700   \n",
      "7           8         Hank    Male   27      Bed    Furniture    400   \n",
      "\n",
      "   Quantity PurchaseDate  Unnamed: 9  Unnamed: 10 Unnamed: 11  TotalSales  \\\n",
      "0         1    1/10/2024         NaN         28.0       Alice        1000   \n",
      "1         2    2/15/2024         NaN          NaN         NaN         150   \n",
      "2         1    3/18/2024         NaN          NaN         NaN         800   \n",
      "3         1    4/20/2024         NaN          NaN         NaN         300   \n",
      "4         3    5/25/2024         NaN          NaN         NaN         200   \n",
      "5         1     6/1/2024         NaN          NaN         NaN         500   \n",
      "6         2     7/7/2024         NaN          NaN         NaN         700   \n",
      "7         1    8/12/2024         NaN          NaN         NaN         400   \n",
      "\n",
      "   IsSenior  \n",
      "0     False  \n",
      "1     False  \n",
      "2     False  \n",
      "3     False  \n",
      "4     False  \n",
      "5      True  \n",
      "6     False  \n",
      "7     False  \n"
     ]
    }
   ],
   "source": [
    "#Adding a column when age > 40\n",
    "df['IsSenior'] = df['Age'] > 40\n",
    "print(df)\n"
   ]
  },
  {
   "cell_type": "code",
   "execution_count": 88,
   "id": "a9f53441-b507-4970-8ee2-c9c1ac8eba7e",
   "metadata": {},
   "outputs": [
    {
     "name": "stdout",
     "output_type": "stream",
     "text": [
      "Category\n",
      "Electronics    1.75\n",
      "Furniture      1.25\n",
      "Name: Quantity, dtype: float64\n"
     ]
    }
   ],
   "source": [
    "#Finding the average quantity purchased by category\n",
    "avg_quantity_by_category = df.groupby('Category')['Quantity'].mean() \n",
    "print(avg_quantity_by_category)"
   ]
  },
  {
   "cell_type": "code",
   "execution_count": 92,
   "id": "7b353edc-600e-4b9a-b852-11eb5fd70ee6",
   "metadata": {},
   "outputs": [],
   "source": [
    "# Saving a DataFrame to a CSV file\n",
    "df.to_csv('output_file.csv', index=False)"
   ]
  },
  {
   "cell_type": "code",
   "execution_count": 96,
   "id": "b1332a53-f582-4960-b177-72f127cb5cef",
   "metadata": {},
   "outputs": [],
   "source": [
    "# Saving DataFrame called total_sales_by_category\n",
    "total_sales_by_category.to_csv('total_sales.csv', index=True)"
   ]
  },
  {
   "cell_type": "code",
   "execution_count": 98,
   "id": "8e9efe1f-2747-4454-9f55-cc691e56d0bd",
   "metadata": {},
   "outputs": [],
   "source": [
    "#Saving DataFrame to an Excel File\n",
    "df.to_excel('output_file.xlsx', index=False)\n"
   ]
  },
  {
   "cell_type": "code",
   "execution_count": 100,
   "id": "1949aaa9-311b-463a-b13d-43b6caa5cafe",
   "metadata": {},
   "outputs": [],
   "source": [
    "#Saving DataFrame to a JSON File\n",
    "df.to_json('output_file.json')"
   ]
  },
  {
   "cell_type": "code",
   "execution_count": 102,
   "id": "7b2b6ebe-906b-40e8-96e3-f865d8aeef58",
   "metadata": {},
   "outputs": [],
   "source": [
    "#saving to SQL\n",
    "from sqlalchemy import create_engine \n"
   ]
  },
  {
   "cell_type": "code",
   "execution_count": 1,
   "id": "6ca388fa-c2a1-40c2-ad1e-8b5a39cacc4c",
   "metadata": {},
   "outputs": [],
   "source": [
    "# Create an SQLite engine \n",
    "engine = create_engine('sqlite:///my_database.db’)"
   ]
  },
  {
   "cell_type": "code",
   "execution_count": 3,
   "id": "9e148441-f6e6-4381-be0f-9a2e42658d0e",
   "metadata": {},
   "outputs": [],
   "source": [
    "# Saving DataFrame to SQL \n",
    "table df.to_sql('customers', con=engine, index=False, if_exists='replace')\n"
   ]
  },
  {
   "cell_type": "code",
   "execution_count": null,
   "id": "c632f2e2-2b66-449f-90e8-ee0ad16257cc",
   "metadata": {},
   "outputs": [],
   "source": []
  }
 ],
 "metadata": {
  "kernelspec": {
   "display_name": "Python 3 (ipykernel)",
   "language": "python",
   "name": "python3"
  },
  "language_info": {
   "codemirror_mode": {
    "name": "ipython",
    "version": 3
   },
   "file_extension": ".py",
   "mimetype": "text/x-python",
   "name": "python",
   "nbconvert_exporter": "python",
   "pygments_lexer": "ipython3",
   "version": "3.12.4"
  }
 },
 "nbformat": 4,
 "nbformat_minor": 5
}
