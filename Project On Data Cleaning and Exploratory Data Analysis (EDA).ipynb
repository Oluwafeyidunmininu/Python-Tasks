{
 "cells": [
  {
   "cell_type": "markdown",
   "id": "39cde00d-c8cf-47a2-86f2-bc6c3fc78740",
   "metadata": {},
   "source": [
    "Data cleaning  and EDA "
   ]
  },
  {
   "cell_type": "code",
   "execution_count": 3,
   "id": "0acb355a-457d-4fa6-bfa0-729a9e1aaba3",
   "metadata": {},
   "outputs": [],
   "source": [
    "import pandas as pd "
   ]
  },
  {
   "cell_type": "code",
   "execution_count": 4,
   "id": "af23f061-5e10-46a3-befb-6f19422949d6",
   "metadata": {},
   "outputs": [],
   "source": [
    "import seaborn as sns"
   ]
  },
  {
   "cell_type": "code",
   "execution_count": 6,
   "id": "a8fa96c8-f1f9-4357-8b04-caf578510274",
   "metadata": {},
   "outputs": [],
   "source": [
    "import matplotlib.pyplot as plt"
   ]
  },
  {
   "cell_type": "code",
   "execution_count": 7,
   "id": "36b99c34-8395-4193-b53c-73b330c61821",
   "metadata": {},
   "outputs": [
    {
     "data": {
      "text/html": [
       "<div>\n",
       "<style scoped>\n",
       "    .dataframe tbody tr th:only-of-type {\n",
       "        vertical-align: middle;\n",
       "    }\n",
       "\n",
       "    .dataframe tbody tr th {\n",
       "        vertical-align: top;\n",
       "    }\n",
       "\n",
       "    .dataframe thead th {\n",
       "        text-align: right;\n",
       "    }\n",
       "</style>\n",
       "<table border=\"1\" class=\"dataframe\">\n",
       "  <thead>\n",
       "    <tr style=\"text-align: right;\">\n",
       "      <th></th>\n",
       "      <th>Rank</th>\n",
       "      <th>Peak</th>\n",
       "      <th>All Time Peak</th>\n",
       "      <th>Actual gross</th>\n",
       "      <th>Adjusted gross (in 2022 dollars)</th>\n",
       "      <th>Artist</th>\n",
       "      <th>Tour title</th>\n",
       "      <th>Year(s)</th>\n",
       "      <th>Shows</th>\n",
       "      <th>Average gross</th>\n",
       "      <th>Ref.</th>\n",
       "    </tr>\n",
       "  </thead>\n",
       "  <tbody>\n",
       "    <tr>\n",
       "      <th>0</th>\n",
       "      <td>1</td>\n",
       "      <td>1</td>\n",
       "      <td>2</td>\n",
       "      <td>$780,000,000</td>\n",
       "      <td>$780,000,000</td>\n",
       "      <td>Taylor Swift</td>\n",
       "      <td>The Eras Tour †</td>\n",
       "      <td>2023–2024</td>\n",
       "      <td>56</td>\n",
       "      <td>$13,928,571</td>\n",
       "      <td>[1]</td>\n",
       "    </tr>\n",
       "    <tr>\n",
       "      <th>1</th>\n",
       "      <td>2</td>\n",
       "      <td>1</td>\n",
       "      <td>7[2]</td>\n",
       "      <td>$579,800,000</td>\n",
       "      <td>$579,800,000</td>\n",
       "      <td>Beyoncé</td>\n",
       "      <td>Renaissance World Tour</td>\n",
       "      <td>2023</td>\n",
       "      <td>56</td>\n",
       "      <td>$10,353,571</td>\n",
       "      <td>[3]</td>\n",
       "    </tr>\n",
       "    <tr>\n",
       "      <th>2</th>\n",
       "      <td>3</td>\n",
       "      <td>1[4]</td>\n",
       "      <td>2[5]</td>\n",
       "      <td>$411,000,000</td>\n",
       "      <td>$560,622,615</td>\n",
       "      <td>Madonna</td>\n",
       "      <td>Sticky &amp; Sweet Tour ‡[4][a]</td>\n",
       "      <td>2008–2009</td>\n",
       "      <td>85</td>\n",
       "      <td>$4,835,294</td>\n",
       "      <td>[6]</td>\n",
       "    </tr>\n",
       "    <tr>\n",
       "      <th>3</th>\n",
       "      <td>4</td>\n",
       "      <td>2[7]</td>\n",
       "      <td>10[7]</td>\n",
       "      <td>$397,300,000</td>\n",
       "      <td>$454,751,555</td>\n",
       "      <td>Pink</td>\n",
       "      <td>Beautiful Trauma World Tour</td>\n",
       "      <td>2018–2019</td>\n",
       "      <td>156</td>\n",
       "      <td>$2,546,795</td>\n",
       "      <td>[7]</td>\n",
       "    </tr>\n",
       "    <tr>\n",
       "      <th>4</th>\n",
       "      <td>5</td>\n",
       "      <td>2[4]</td>\n",
       "      <td>NaN</td>\n",
       "      <td>$345,675,146</td>\n",
       "      <td>$402,844,849</td>\n",
       "      <td>Taylor Swift</td>\n",
       "      <td>Reputation Stadium Tour</td>\n",
       "      <td>2018</td>\n",
       "      <td>53</td>\n",
       "      <td>$6,522,173</td>\n",
       "      <td>[8]</td>\n",
       "    </tr>\n",
       "  </tbody>\n",
       "</table>\n",
       "</div>"
      ],
      "text/plain": [
       "   Rank  Peak All Time Peak  Actual gross Adjusted gross (in 2022 dollars)  \\\n",
       "0     1     1             2  $780,000,000                     $780,000,000   \n",
       "1     2     1          7[2]  $579,800,000                     $579,800,000   \n",
       "2     3  1[4]          2[5]  $411,000,000                     $560,622,615   \n",
       "3     4  2[7]         10[7]  $397,300,000                     $454,751,555   \n",
       "4     5  2[4]           NaN  $345,675,146                     $402,844,849   \n",
       "\n",
       "         Artist                   Tour title    Year(s)  Shows Average gross  \\\n",
       "0  Taylor Swift              The Eras Tour †  2023–2024     56   $13,928,571   \n",
       "1       Beyoncé       Renaissance World Tour       2023     56   $10,353,571   \n",
       "2       Madonna  Sticky & Sweet Tour ‡[4][a]  2008–2009     85    $4,835,294   \n",
       "3          Pink  Beautiful Trauma World Tour  2018–2019    156    $2,546,795   \n",
       "4  Taylor Swift      Reputation Stadium Tour       2018     53    $6,522,173   \n",
       "\n",
       "  Ref.  \n",
       "0  [1]  \n",
       "1  [3]  \n",
       "2  [6]  \n",
       "3  [7]  \n",
       "4  [8]  "
      ]
     },
     "execution_count": 7,
     "metadata": {},
     "output_type": "execute_result"
    }
   ],
   "source": [
    "#Loading Data \n",
    "df= pd.read_csv('Musician(1).csv')\n",
    "df.head()"
   ]
  },
  {
   "cell_type": "code",
   "execution_count": 8,
   "id": "a711e8c1-464f-4ce6-8b3b-705137b0d619",
   "metadata": {},
   "outputs": [
    {
     "data": {
      "text/plain": [
       "Index(['Rank', 'Peak', 'All Time Peak', 'Actual gross',\n",
       "       'Adjusted gross (in 2022 dollars)', 'Artist', 'Tour title', 'Year(s)',\n",
       "       'Shows', 'Average gross', 'Ref.'],\n",
       "      dtype='object')"
      ]
     },
     "execution_count": 8,
     "metadata": {},
     "output_type": "execute_result"
    }
   ],
   "source": [
    "#removig Columns \n",
    "df.columns "
   ]
  },
  {
   "cell_type": "code",
   "execution_count": 9,
   "id": "ee971427-159e-4627-8c29-a28266eddd3f",
   "metadata": {},
   "outputs": [],
   "source": [
    "df.drop(columns=['Rank', 'Peak', 'All Time Peak','Ref.'], inplace = True)"
   ]
  },
  {
   "cell_type": "code",
   "execution_count": 10,
   "id": "bb62fc32-f3cb-462d-bba2-07e429d84a4a",
   "metadata": {},
   "outputs": [
    {
     "data": {
      "text/html": [
       "<div>\n",
       "<style scoped>\n",
       "    .dataframe tbody tr th:only-of-type {\n",
       "        vertical-align: middle;\n",
       "    }\n",
       "\n",
       "    .dataframe tbody tr th {\n",
       "        vertical-align: top;\n",
       "    }\n",
       "\n",
       "    .dataframe thead th {\n",
       "        text-align: right;\n",
       "    }\n",
       "</style>\n",
       "<table border=\"1\" class=\"dataframe\">\n",
       "  <thead>\n",
       "    <tr style=\"text-align: right;\">\n",
       "      <th></th>\n",
       "      <th>Actual gross</th>\n",
       "      <th>Adjusted gross (in 2022 dollars)</th>\n",
       "      <th>Artist</th>\n",
       "      <th>Tour title</th>\n",
       "      <th>Year(s)</th>\n",
       "      <th>Shows</th>\n",
       "      <th>Average gross</th>\n",
       "    </tr>\n",
       "  </thead>\n",
       "  <tbody>\n",
       "    <tr>\n",
       "      <th>0</th>\n",
       "      <td>$780,000,000</td>\n",
       "      <td>$780,000,000</td>\n",
       "      <td>Taylor Swift</td>\n",
       "      <td>The Eras Tour †</td>\n",
       "      <td>2023–2024</td>\n",
       "      <td>56</td>\n",
       "      <td>$13,928,571</td>\n",
       "    </tr>\n",
       "    <tr>\n",
       "      <th>1</th>\n",
       "      <td>$579,800,000</td>\n",
       "      <td>$579,800,000</td>\n",
       "      <td>Beyoncé</td>\n",
       "      <td>Renaissance World Tour</td>\n",
       "      <td>2023</td>\n",
       "      <td>56</td>\n",
       "      <td>$10,353,571</td>\n",
       "    </tr>\n",
       "    <tr>\n",
       "      <th>2</th>\n",
       "      <td>$411,000,000</td>\n",
       "      <td>$560,622,615</td>\n",
       "      <td>Madonna</td>\n",
       "      <td>Sticky &amp; Sweet Tour ‡[4][a]</td>\n",
       "      <td>2008–2009</td>\n",
       "      <td>85</td>\n",
       "      <td>$4,835,294</td>\n",
       "    </tr>\n",
       "    <tr>\n",
       "      <th>3</th>\n",
       "      <td>$397,300,000</td>\n",
       "      <td>$454,751,555</td>\n",
       "      <td>Pink</td>\n",
       "      <td>Beautiful Trauma World Tour</td>\n",
       "      <td>2018–2019</td>\n",
       "      <td>156</td>\n",
       "      <td>$2,546,795</td>\n",
       "    </tr>\n",
       "    <tr>\n",
       "      <th>4</th>\n",
       "      <td>$345,675,146</td>\n",
       "      <td>$402,844,849</td>\n",
       "      <td>Taylor Swift</td>\n",
       "      <td>Reputation Stadium Tour</td>\n",
       "      <td>2018</td>\n",
       "      <td>53</td>\n",
       "      <td>$6,522,173</td>\n",
       "    </tr>\n",
       "  </tbody>\n",
       "</table>\n",
       "</div>"
      ],
      "text/plain": [
       "   Actual gross Adjusted gross (in 2022 dollars)        Artist  \\\n",
       "0  $780,000,000                     $780,000,000  Taylor Swift   \n",
       "1  $579,800,000                     $579,800,000       Beyoncé   \n",
       "2  $411,000,000                     $560,622,615       Madonna   \n",
       "3  $397,300,000                     $454,751,555          Pink   \n",
       "4  $345,675,146                     $402,844,849  Taylor Swift   \n",
       "\n",
       "                    Tour title    Year(s)  Shows Average gross  \n",
       "0              The Eras Tour †  2023–2024     56   $13,928,571  \n",
       "1       Renaissance World Tour       2023     56   $10,353,571  \n",
       "2  Sticky & Sweet Tour ‡[4][a]  2008–2009     85    $4,835,294  \n",
       "3  Beautiful Trauma World Tour  2018–2019    156    $2,546,795  \n",
       "4      Reputation Stadium Tour       2018     53    $6,522,173  "
      ]
     },
     "execution_count": 10,
     "metadata": {},
     "output_type": "execute_result"
    }
   ],
   "source": [
    "df.head()"
   ]
  },
  {
   "cell_type": "code",
   "execution_count": 11,
   "id": "915cea5c-507f-4f99-8e36-279f6c366fb7",
   "metadata": {},
   "outputs": [
    {
     "data": {
      "text/plain": [
       "Index(['Actual gross', 'Adjusted gross (in 2022 dollars)', 'Artist',\n",
       "       'Tour title', 'Year(s)', 'Shows', 'Average gross'],\n",
       "      dtype='object')"
      ]
     },
     "execution_count": 11,
     "metadata": {},
     "output_type": "execute_result"
    }
   ],
   "source": [
    "df.columns"
   ]
  },
  {
   "cell_type": "code",
   "execution_count": 12,
   "id": "a6955929-1b72-47cf-bf8d-69f1828dcc8d",
   "metadata": {},
   "outputs": [],
   "source": [
    "#Renaming the header\n",
    "col_rename ={'Actual\\xa0gross': 'gross', 'Adjusted\\xa0gross (in 2022 dollars)(in 2022 dollars)' :'adj_gross', 'Artist':'artist',\n",
    "       'Tour title' : 'tour' , 'Year(s)': 'year', 'Shows': 'shows', 'Average gross ': 'avg_gross'}\n"
   ]
  },
  {
   "cell_type": "code",
   "execution_count": 13,
   "id": "b69eae45-7ab3-4104-b26a-03bc81eed794",
   "metadata": {},
   "outputs": [],
   "source": [
    "df.rename(columns = col_rename, inplace = True)"
   ]
  },
  {
   "cell_type": "code",
   "execution_count": 14,
   "id": "293dec6b-0f89-49d5-bac2-bbc85119c408",
   "metadata": {},
   "outputs": [
    {
     "data": {
      "text/html": [
       "<div>\n",
       "<style scoped>\n",
       "    .dataframe tbody tr th:only-of-type {\n",
       "        vertical-align: middle;\n",
       "    }\n",
       "\n",
       "    .dataframe tbody tr th {\n",
       "        vertical-align: top;\n",
       "    }\n",
       "\n",
       "    .dataframe thead th {\n",
       "        text-align: right;\n",
       "    }\n",
       "</style>\n",
       "<table border=\"1\" class=\"dataframe\">\n",
       "  <thead>\n",
       "    <tr style=\"text-align: right;\">\n",
       "      <th></th>\n",
       "      <th>gross</th>\n",
       "      <th>Adjusted gross (in 2022 dollars)</th>\n",
       "      <th>artist</th>\n",
       "      <th>tour</th>\n",
       "      <th>year</th>\n",
       "      <th>shows</th>\n",
       "      <th>Average gross</th>\n",
       "    </tr>\n",
       "  </thead>\n",
       "  <tbody>\n",
       "    <tr>\n",
       "      <th>0</th>\n",
       "      <td>$780,000,000</td>\n",
       "      <td>$780,000,000</td>\n",
       "      <td>Taylor Swift</td>\n",
       "      <td>The Eras Tour †</td>\n",
       "      <td>2023–2024</td>\n",
       "      <td>56</td>\n",
       "      <td>$13,928,571</td>\n",
       "    </tr>\n",
       "    <tr>\n",
       "      <th>1</th>\n",
       "      <td>$579,800,000</td>\n",
       "      <td>$579,800,000</td>\n",
       "      <td>Beyoncé</td>\n",
       "      <td>Renaissance World Tour</td>\n",
       "      <td>2023</td>\n",
       "      <td>56</td>\n",
       "      <td>$10,353,571</td>\n",
       "    </tr>\n",
       "    <tr>\n",
       "      <th>2</th>\n",
       "      <td>$411,000,000</td>\n",
       "      <td>$560,622,615</td>\n",
       "      <td>Madonna</td>\n",
       "      <td>Sticky &amp; Sweet Tour ‡[4][a]</td>\n",
       "      <td>2008–2009</td>\n",
       "      <td>85</td>\n",
       "      <td>$4,835,294</td>\n",
       "    </tr>\n",
       "    <tr>\n",
       "      <th>3</th>\n",
       "      <td>$397,300,000</td>\n",
       "      <td>$454,751,555</td>\n",
       "      <td>Pink</td>\n",
       "      <td>Beautiful Trauma World Tour</td>\n",
       "      <td>2018–2019</td>\n",
       "      <td>156</td>\n",
       "      <td>$2,546,795</td>\n",
       "    </tr>\n",
       "    <tr>\n",
       "      <th>4</th>\n",
       "      <td>$345,675,146</td>\n",
       "      <td>$402,844,849</td>\n",
       "      <td>Taylor Swift</td>\n",
       "      <td>Reputation Stadium Tour</td>\n",
       "      <td>2018</td>\n",
       "      <td>53</td>\n",
       "      <td>$6,522,173</td>\n",
       "    </tr>\n",
       "  </tbody>\n",
       "</table>\n",
       "</div>"
      ],
      "text/plain": [
       "          gross Adjusted gross (in 2022 dollars)        artist  \\\n",
       "0  $780,000,000                     $780,000,000  Taylor Swift   \n",
       "1  $579,800,000                     $579,800,000       Beyoncé   \n",
       "2  $411,000,000                     $560,622,615       Madonna   \n",
       "3  $397,300,000                     $454,751,555          Pink   \n",
       "4  $345,675,146                     $402,844,849  Taylor Swift   \n",
       "\n",
       "                          tour       year  shows Average gross  \n",
       "0              The Eras Tour †  2023–2024     56   $13,928,571  \n",
       "1       Renaissance World Tour       2023     56   $10,353,571  \n",
       "2  Sticky & Sweet Tour ‡[4][a]  2008–2009     85    $4,835,294  \n",
       "3  Beautiful Trauma World Tour  2018–2019    156    $2,546,795  \n",
       "4      Reputation Stadium Tour       2018     53    $6,522,173  "
      ]
     },
     "execution_count": 14,
     "metadata": {},
     "output_type": "execute_result"
    }
   ],
   "source": [
    "df.head()"
   ]
  },
  {
   "cell_type": "code",
   "execution_count": 15,
   "id": "c20b41f9-fff9-4797-bab3-bec10521ed13",
   "metadata": {},
   "outputs": [
    {
     "data": {
      "text/plain": [
       "['gross',\n",
       " 'Adjusted\\xa0gross (in 2022 dollars)',\n",
       " 'artist',\n",
       " 'tour',\n",
       " 'year',\n",
       " 'shows',\n",
       " 'Average gross']"
      ]
     },
     "execution_count": 15,
     "metadata": {},
     "output_type": "execute_result"
    }
   ],
   "source": [
    "df.columns.tolist() "
   ]
  },
  {
   "cell_type": "code",
   "execution_count": 16,
   "id": "30e1fde9-09aa-47c5-9ee4-2f87c7f3a895",
   "metadata": {},
   "outputs": [],
   "source": [
    "df.columns = df.columns.str.encode('ascii', 'ignore').str.decode('ascii')"
   ]
  },
  {
   "cell_type": "code",
   "execution_count": 17,
   "id": "15e7c190-1d3a-4c33-9ee8-2731b71e77e9",
   "metadata": {},
   "outputs": [
    {
     "data": {
      "text/plain": [
       "Index(['gross', 'Adjustedgross (in 2022 dollars)', 'artist', 'tour', 'year',\n",
       "       'shows', 'Average gross'],\n",
       "      dtype='object')"
      ]
     },
     "execution_count": 17,
     "metadata": {},
     "output_type": "execute_result"
    }
   ],
   "source": [
    "df.columns "
   ]
  },
  {
   "cell_type": "code",
   "execution_count": 18,
   "id": "1591809f-aa62-4797-8680-de45301c830e",
   "metadata": {},
   "outputs": [],
   "source": [
    "df.rename(columns ={'Actual\\xa0gross': 'gross', 'Adjustedgross (in 2022 dollars)' :'adj_gross', 'Average gross' : 'avg_gross'}, inplace  = True)"
   ]
  },
  {
   "cell_type": "code",
   "execution_count": 19,
   "id": "63b467ea-dd86-4546-a748-1f8e275a64dc",
   "metadata": {},
   "outputs": [
    {
     "data": {
      "text/html": [
       "<div>\n",
       "<style scoped>\n",
       "    .dataframe tbody tr th:only-of-type {\n",
       "        vertical-align: middle;\n",
       "    }\n",
       "\n",
       "    .dataframe tbody tr th {\n",
       "        vertical-align: top;\n",
       "    }\n",
       "\n",
       "    .dataframe thead th {\n",
       "        text-align: right;\n",
       "    }\n",
       "</style>\n",
       "<table border=\"1\" class=\"dataframe\">\n",
       "  <thead>\n",
       "    <tr style=\"text-align: right;\">\n",
       "      <th></th>\n",
       "      <th>gross</th>\n",
       "      <th>adj_gross</th>\n",
       "      <th>artist</th>\n",
       "      <th>tour</th>\n",
       "      <th>year</th>\n",
       "      <th>shows</th>\n",
       "      <th>avg_gross</th>\n",
       "    </tr>\n",
       "  </thead>\n",
       "  <tbody>\n",
       "    <tr>\n",
       "      <th>15</th>\n",
       "      <td>$184,000,000</td>\n",
       "      <td>$227,452,347</td>\n",
       "      <td>Pink</td>\n",
       "      <td>The Truth About Love Tour</td>\n",
       "      <td>2013–2014</td>\n",
       "      <td>142</td>\n",
       "      <td>$1,295,775</td>\n",
       "    </tr>\n",
       "    <tr>\n",
       "      <th>16</th>\n",
       "      <td>$170,000,000</td>\n",
       "      <td>$213,568,571</td>\n",
       "      <td>Lady Gaga</td>\n",
       "      <td>Born This Way Ball</td>\n",
       "      <td>2012–2013</td>\n",
       "      <td>98</td>\n",
       "      <td>$1,734,694</td>\n",
       "    </tr>\n",
       "    <tr>\n",
       "      <th>17</th>\n",
       "      <td>$169,800,000</td>\n",
       "      <td>$207,046,755</td>\n",
       "      <td>Madonna</td>\n",
       "      <td>Rebel Heart Tour</td>\n",
       "      <td>2015–2016</td>\n",
       "      <td>82</td>\n",
       "      <td>$2,070,732</td>\n",
       "    </tr>\n",
       "    <tr>\n",
       "      <th>18</th>\n",
       "      <td>$167,700,000[e]</td>\n",
       "      <td>$204,486,106</td>\n",
       "      <td>Adele</td>\n",
       "      <td>Adele Live 2016</td>\n",
       "      <td>2016–2017</td>\n",
       "      <td>121</td>\n",
       "      <td>$1,385,950</td>\n",
       "    </tr>\n",
       "    <tr>\n",
       "      <th>19</th>\n",
       "      <td>$150,000,000</td>\n",
       "      <td>$185,423,109</td>\n",
       "      <td>Taylor Swift</td>\n",
       "      <td>The Red Tour</td>\n",
       "      <td>2013–2014</td>\n",
       "      <td>86</td>\n",
       "      <td>$1,744,186</td>\n",
       "    </tr>\n",
       "  </tbody>\n",
       "</table>\n",
       "</div>"
      ],
      "text/plain": [
       "              gross     adj_gross        artist                       tour  \\\n",
       "15     $184,000,000  $227,452,347          Pink  The Truth About Love Tour   \n",
       "16     $170,000,000  $213,568,571     Lady Gaga         Born This Way Ball   \n",
       "17     $169,800,000  $207,046,755       Madonna           Rebel Heart Tour   \n",
       "18  $167,700,000[e]  $204,486,106         Adele            Adele Live 2016   \n",
       "19     $150,000,000  $185,423,109  Taylor Swift               The Red Tour   \n",
       "\n",
       "         year  shows   avg_gross  \n",
       "15  2013–2014    142  $1,295,775  \n",
       "16  2012–2013     98  $1,734,694  \n",
       "17  2015–2016     82  $2,070,732  \n",
       "18  2016–2017    121  $1,385,950  \n",
       "19  2013–2014     86  $1,744,186  "
      ]
     },
     "execution_count": 19,
     "metadata": {},
     "output_type": "execute_result"
    }
   ],
   "source": [
    "df.tail()"
   ]
  },
  {
   "cell_type": "code",
   "execution_count": 20,
   "id": "66b0c687-a656-4890-bc28-30c15944647b",
   "metadata": {},
   "outputs": [
    {
     "name": "stdout",
     "output_type": "stream",
     "text": [
      "<class 'pandas.core.frame.DataFrame'>\n",
      "RangeIndex: 20 entries, 0 to 19\n",
      "Data columns (total 7 columns):\n",
      " #   Column     Non-Null Count  Dtype \n",
      "---  ------     --------------  ----- \n",
      " 0   gross      20 non-null     object\n",
      " 1   adj_gross  20 non-null     object\n",
      " 2   artist     20 non-null     object\n",
      " 3   tour       20 non-null     object\n",
      " 4   year       20 non-null     object\n",
      " 5   shows      20 non-null     int64 \n",
      " 6   avg_gross  20 non-null     object\n",
      "dtypes: int64(1), object(6)\n",
      "memory usage: 1.2+ KB\n"
     ]
    }
   ],
   "source": [
    "df.info()"
   ]
  },
  {
   "cell_type": "code",
   "execution_count": 21,
   "id": "74d0f724-e13f-4743-b9ed-edecbc36d238",
   "metadata": {},
   "outputs": [
    {
     "data": {
      "text/plain": [
       "12    $204,000,000\n",
       "6     $280,000,000\n",
       "15    $184,000,000\n",
       "19    $150,000,000\n",
       "0     $780,000,000\n",
       "Name: gross, dtype: object"
      ]
     },
     "execution_count": 21,
     "metadata": {},
     "output_type": "execute_result"
    }
   ],
   "source": [
    "df.gross.sample(5)"
   ]
  },
  {
   "cell_type": "code",
   "execution_count": 22,
   "id": "26781dcf-cff8-4879-b9c1-77b4817e56e9",
   "metadata": {},
   "outputs": [
    {
     "data": {
      "text/plain": [
       "0        780000000\n",
       "1        579800000\n",
       "2        411000000\n",
       "3        397300000\n",
       "4        345675146\n",
       "5        305158363\n",
       "6        280000000\n",
       "7        257600000\n",
       "8        256084556\n",
       "9        250400000\n",
       "10    229100000[b]\n",
       "11       227400000\n",
       "12       204000000\n",
       "13       200000000\n",
       "14       194000000\n",
       "15       184000000\n",
       "16       170000000\n",
       "17       169800000\n",
       "18    167700000[e]\n",
       "19       150000000\n",
       "Name: gross, dtype: object"
      ]
     },
     "execution_count": 22,
     "metadata": {},
     "output_type": "execute_result"
    }
   ],
   "source": [
    "df.gross.str.replace('$','').str.replace(',','')"
   ]
  },
  {
   "cell_type": "code",
   "execution_count": 23,
   "id": "e02c572f-4c1f-44db-b743-4c6a7bb1e8fd",
   "metadata": {},
   "outputs": [],
   "source": [
    "#df['gross'] = df.gross.str.replace(r'[^\\d.]', '', regex = True)\n",
    "                                   "
   ]
  },
  {
   "cell_type": "code",
   "execution_count": 24,
   "id": "8f81366d-207b-4d13-a760-93d46fc650de",
   "metadata": {},
   "outputs": [],
   "source": [
    "col_to_cleaned = ['gross', 'adj_gross', 'avg_gross']"
   ]
  },
  {
   "cell_type": "code",
   "execution_count": 25,
   "id": "16e6308b-339d-41d1-95c0-e99b72bf2303",
   "metadata": {},
   "outputs": [
    {
     "data": {
      "text/html": [
       "<div>\n",
       "<style scoped>\n",
       "    .dataframe tbody tr th:only-of-type {\n",
       "        vertical-align: middle;\n",
       "    }\n",
       "\n",
       "    .dataframe tbody tr th {\n",
       "        vertical-align: top;\n",
       "    }\n",
       "\n",
       "    .dataframe thead th {\n",
       "        text-align: right;\n",
       "    }\n",
       "</style>\n",
       "<table border=\"1\" class=\"dataframe\">\n",
       "  <thead>\n",
       "    <tr style=\"text-align: right;\">\n",
       "      <th></th>\n",
       "      <th>gross</th>\n",
       "      <th>adj_gross</th>\n",
       "      <th>artist</th>\n",
       "      <th>tour</th>\n",
       "      <th>year</th>\n",
       "      <th>shows</th>\n",
       "      <th>avg_gross</th>\n",
       "    </tr>\n",
       "  </thead>\n",
       "  <tbody>\n",
       "    <tr>\n",
       "      <th>0</th>\n",
       "      <td>780000000</td>\n",
       "      <td>780000000</td>\n",
       "      <td>Taylor Swift</td>\n",
       "      <td>The Eras Tour †</td>\n",
       "      <td>2023–2024</td>\n",
       "      <td>56</td>\n",
       "      <td>13928571</td>\n",
       "    </tr>\n",
       "    <tr>\n",
       "      <th>1</th>\n",
       "      <td>579800000</td>\n",
       "      <td>579800000</td>\n",
       "      <td>Beyoncé</td>\n",
       "      <td>Renaissance World Tour</td>\n",
       "      <td>2023</td>\n",
       "      <td>56</td>\n",
       "      <td>10353571</td>\n",
       "    </tr>\n",
       "    <tr>\n",
       "      <th>2</th>\n",
       "      <td>411000000</td>\n",
       "      <td>560622615</td>\n",
       "      <td>Madonna</td>\n",
       "      <td>Sticky &amp; Sweet Tour ‡[4][a]</td>\n",
       "      <td>2008–2009</td>\n",
       "      <td>85</td>\n",
       "      <td>4835294</td>\n",
       "    </tr>\n",
       "    <tr>\n",
       "      <th>3</th>\n",
       "      <td>397300000</td>\n",
       "      <td>454751555</td>\n",
       "      <td>Pink</td>\n",
       "      <td>Beautiful Trauma World Tour</td>\n",
       "      <td>2018–2019</td>\n",
       "      <td>156</td>\n",
       "      <td>2546795</td>\n",
       "    </tr>\n",
       "    <tr>\n",
       "      <th>4</th>\n",
       "      <td>345675146</td>\n",
       "      <td>402844849</td>\n",
       "      <td>Taylor Swift</td>\n",
       "      <td>Reputation Stadium Tour</td>\n",
       "      <td>2018</td>\n",
       "      <td>53</td>\n",
       "      <td>6522173</td>\n",
       "    </tr>\n",
       "  </tbody>\n",
       "</table>\n",
       "</div>"
      ],
      "text/plain": [
       "       gross  adj_gross        artist                         tour       year  \\\n",
       "0  780000000  780000000  Taylor Swift              The Eras Tour †  2023–2024   \n",
       "1  579800000  579800000       Beyoncé       Renaissance World Tour       2023   \n",
       "2  411000000  560622615       Madonna  Sticky & Sweet Tour ‡[4][a]  2008–2009   \n",
       "3  397300000  454751555          Pink  Beautiful Trauma World Tour  2018–2019   \n",
       "4  345675146  402844849  Taylor Swift      Reputation Stadium Tour       2018   \n",
       "\n",
       "   shows avg_gross  \n",
       "0     56  13928571  \n",
       "1     56  10353571  \n",
       "2     85   4835294  \n",
       "3    156   2546795  \n",
       "4     53   6522173  "
      ]
     },
     "execution_count": 25,
     "metadata": {},
     "output_type": "execute_result"
    }
   ],
   "source": [
    "for col in  col_to_cleaned:\n",
    "    df[col] = df[col].str.replace(r'[^\\d.]', '', regex = True)\n",
    "\n",
    "df.head()"
   ]
  },
  {
   "cell_type": "code",
   "execution_count": 26,
   "id": "afe262ae-ad4b-4a51-aa6a-05937efc60d0",
   "metadata": {},
   "outputs": [
    {
     "name": "stdout",
     "output_type": "stream",
     "text": [
      "<class 'pandas.core.frame.DataFrame'>\n",
      "RangeIndex: 20 entries, 0 to 19\n",
      "Data columns (total 7 columns):\n",
      " #   Column     Non-Null Count  Dtype \n",
      "---  ------     --------------  ----- \n",
      " 0   gross      20 non-null     object\n",
      " 1   adj_gross  20 non-null     object\n",
      " 2   artist     20 non-null     object\n",
      " 3   tour       20 non-null     object\n",
      " 4   year       20 non-null     object\n",
      " 5   shows      20 non-null     int64 \n",
      " 6   avg_gross  20 non-null     object\n",
      "dtypes: int64(1), object(6)\n",
      "memory usage: 1.2+ KB\n"
     ]
    }
   ],
   "source": [
    "df.info()"
   ]
  },
  {
   "cell_type": "code",
   "execution_count": 27,
   "id": "88321fbd-8e7f-441d-bc29-bcd699ef6962",
   "metadata": {},
   "outputs": [
    {
     "data": {
      "text/plain": [
       "0     780000000\n",
       "1     579800000\n",
       "2     411000000\n",
       "3     397300000\n",
       "4     345675146\n",
       "5     305158363\n",
       "6     280000000\n",
       "7     257600000\n",
       "8     256084556\n",
       "9     250400000\n",
       "10    229100000\n",
       "11    227400000\n",
       "12    204000000\n",
       "13    200000000\n",
       "14    194000000\n",
       "15    184000000\n",
       "16    170000000\n",
       "17    169800000\n",
       "18    167700000\n",
       "19    150000000\n",
       "Name: gross, dtype: int64"
      ]
     },
     "execution_count": 27,
     "metadata": {},
     "output_type": "execute_result"
    }
   ],
   "source": [
    "pd.to_numeric(df.gross)"
   ]
  },
  {
   "cell_type": "code",
   "execution_count": 28,
   "id": "374c7c7c-eb31-4a4d-a4b5-5eac6d1c2bf9",
   "metadata": {},
   "outputs": [],
   "source": [
    "for col in  col_to_cleaned:\n",
    "    df[col] = pd.to_numeric(df[col])"
   ]
  },
  {
   "cell_type": "code",
   "execution_count": 29,
   "id": "5bb796c8-0319-425c-bc7a-c68137dd5a4d",
   "metadata": {},
   "outputs": [
    {
     "name": "stdout",
     "output_type": "stream",
     "text": [
      "<class 'pandas.core.frame.DataFrame'>\n",
      "RangeIndex: 20 entries, 0 to 19\n",
      "Data columns (total 7 columns):\n",
      " #   Column     Non-Null Count  Dtype \n",
      "---  ------     --------------  ----- \n",
      " 0   gross      20 non-null     int64 \n",
      " 1   adj_gross  20 non-null     int64 \n",
      " 2   artist     20 non-null     object\n",
      " 3   tour       20 non-null     object\n",
      " 4   year       20 non-null     object\n",
      " 5   shows      20 non-null     int64 \n",
      " 6   avg_gross  20 non-null     int64 \n",
      "dtypes: int64(4), object(3)\n",
      "memory usage: 1.2+ KB\n"
     ]
    }
   ],
   "source": [
    "df.info()"
   ]
  },
  {
   "cell_type": "code",
   "execution_count": 30,
   "id": "70928bef-f9f8-4782-8875-d6861b7677ed",
   "metadata": {},
   "outputs": [],
   "source": [
    "#df.gross.astype(int)"
   ]
  },
  {
   "cell_type": "code",
   "execution_count": 31,
   "id": "4c7626b0-3f74-4dd4-8bb2-bc3c4cf89e49",
   "metadata": {},
   "outputs": [
    {
     "data": {
      "text/html": [
       "<div>\n",
       "<style scoped>\n",
       "    .dataframe tbody tr th:only-of-type {\n",
       "        vertical-align: middle;\n",
       "    }\n",
       "\n",
       "    .dataframe tbody tr th {\n",
       "        vertical-align: top;\n",
       "    }\n",
       "\n",
       "    .dataframe thead th {\n",
       "        text-align: right;\n",
       "    }\n",
       "</style>\n",
       "<table border=\"1\" class=\"dataframe\">\n",
       "  <thead>\n",
       "    <tr style=\"text-align: right;\">\n",
       "      <th></th>\n",
       "      <th>gross</th>\n",
       "      <th>adj_gross</th>\n",
       "      <th>artist</th>\n",
       "      <th>tour</th>\n",
       "      <th>year</th>\n",
       "      <th>shows</th>\n",
       "      <th>avg_gross</th>\n",
       "    </tr>\n",
       "  </thead>\n",
       "  <tbody>\n",
       "    <tr>\n",
       "      <th>12</th>\n",
       "      <td>204000000</td>\n",
       "      <td>251856802</td>\n",
       "      <td>Katy Perry</td>\n",
       "      <td>Prismatic World Tour</td>\n",
       "      <td>2014–2015</td>\n",
       "      <td>151</td>\n",
       "      <td>1350993</td>\n",
       "    </tr>\n",
       "    <tr>\n",
       "      <th>0</th>\n",
       "      <td>780000000</td>\n",
       "      <td>780000000</td>\n",
       "      <td>Taylor Swift</td>\n",
       "      <td>The Eras Tour †</td>\n",
       "      <td>2023–2024</td>\n",
       "      <td>56</td>\n",
       "      <td>13928571</td>\n",
       "    </tr>\n",
       "    <tr>\n",
       "      <th>16</th>\n",
       "      <td>170000000</td>\n",
       "      <td>213568571</td>\n",
       "      <td>Lady Gaga</td>\n",
       "      <td>Born This Way Ball</td>\n",
       "      <td>2012–2013</td>\n",
       "      <td>98</td>\n",
       "      <td>1734694</td>\n",
       "    </tr>\n",
       "    <tr>\n",
       "      <th>9</th>\n",
       "      <td>250400000</td>\n",
       "      <td>309141878</td>\n",
       "      <td>Taylor Swift</td>\n",
       "      <td>The 1989 World Tour</td>\n",
       "      <td>2015</td>\n",
       "      <td>85</td>\n",
       "      <td>2945882</td>\n",
       "    </tr>\n",
       "    <tr>\n",
       "      <th>13</th>\n",
       "      <td>200000000</td>\n",
       "      <td>299676265</td>\n",
       "      <td>Cher</td>\n",
       "      <td>Living Proof: The Farewell Tour ‡[21][a]</td>\n",
       "      <td>2002–2005</td>\n",
       "      <td>325</td>\n",
       "      <td>615385</td>\n",
       "    </tr>\n",
       "  </tbody>\n",
       "</table>\n",
       "</div>"
      ],
      "text/plain": [
       "        gross  adj_gross        artist  \\\n",
       "12  204000000  251856802    Katy Perry   \n",
       "0   780000000  780000000  Taylor Swift   \n",
       "16  170000000  213568571     Lady Gaga   \n",
       "9   250400000  309141878  Taylor Swift   \n",
       "13  200000000  299676265          Cher   \n",
       "\n",
       "                                        tour       year  shows  avg_gross  \n",
       "12                      Prismatic World Tour  2014–2015    151    1350993  \n",
       "0                            The Eras Tour †  2023–2024     56   13928571  \n",
       "16                        Born This Way Ball  2012–2013     98    1734694  \n",
       "9                        The 1989 World Tour       2015     85    2945882  \n",
       "13  Living Proof: The Farewell Tour ‡[21][a]  2002–2005    325     615385  "
      ]
     },
     "execution_count": 31,
     "metadata": {},
     "output_type": "execute_result"
    }
   ],
   "source": [
    "df.sample(5)"
   ]
  },
  {
   "cell_type": "code",
   "execution_count": 32,
   "id": "3fb3d6f2-ef2a-40db-8a45-e0509f35a543",
   "metadata": {},
   "outputs": [
    {
     "data": {
      "text/plain": [
       "11    2009–2011\n",
       "14         2006\n",
       "8          2016\n",
       "13    2002–2005\n",
       "7     2023–2024\n",
       "9          2015\n",
       "3     2018–2019\n",
       "12    2014–2015\n",
       "Name: year, dtype: object"
      ]
     },
     "execution_count": 32,
     "metadata": {},
     "output_type": "execute_result"
    }
   ],
   "source": [
    "df.year.sample(8)"
   ]
  },
  {
   "cell_type": "code",
   "execution_count": 33,
   "id": "03339589-4854-4590-b08b-bbf547dcbd0b",
   "metadata": {},
   "outputs": [
    {
     "data": {
      "text/plain": [
       "0     [2023–2024]\n",
       "1          [2023]\n",
       "2     [2008–2009]\n",
       "3     [2018–2019]\n",
       "4          [2018]\n",
       "5          [2012]\n",
       "6     [2008–2009]\n",
       "7     [2023–2024]\n",
       "8          [2016]\n",
       "9          [2015]\n",
       "10    [2013–2014]\n",
       "11    [2009–2011]\n",
       "12    [2014–2015]\n",
       "13    [2002–2005]\n",
       "14         [2006]\n",
       "15    [2013–2014]\n",
       "16    [2012–2013]\n",
       "17    [2015–2016]\n",
       "18    [2016–2017]\n",
       "19    [2013–2014]\n",
       "Name: year, dtype: object"
      ]
     },
     "execution_count": 33,
     "metadata": {},
     "output_type": "execute_result"
    }
   ],
   "source": [
    "df.year.str.split('-')"
   ]
  },
  {
   "cell_type": "code",
   "execution_count": 34,
   "id": "332a67b8-7503-42cf-853c-1f0495ebfe1f",
   "metadata": {},
   "outputs": [
    {
     "data": {
      "text/plain": [
       "'2009'"
      ]
     },
     "execution_count": 34,
     "metadata": {},
     "output_type": "execute_result"
    }
   ],
   "source": [
    "df.year[2][-4:]"
   ]
  },
  {
   "cell_type": "code",
   "execution_count": 35,
   "id": "cecb1167-fde0-4b25-a86e-c88a3a756d8b",
   "metadata": {},
   "outputs": [],
   "source": [
    "def extract_year(value):\n",
    "    return value[-4:] if len(value)> 4 else value"
   ]
  },
  {
   "cell_type": "code",
   "execution_count": 36,
   "id": "00ad6dc6-4a05-4a5a-90f6-2b263fdc569b",
   "metadata": {},
   "outputs": [],
   "source": [
    "df['year'] =df.year.apply(extract_year)"
   ]
  },
  {
   "cell_type": "code",
   "execution_count": 37,
   "id": "1368700b-ae66-4cea-b7b2-97464d0c84b7",
   "metadata": {},
   "outputs": [
    {
     "data": {
      "text/html": [
       "<div>\n",
       "<style scoped>\n",
       "    .dataframe tbody tr th:only-of-type {\n",
       "        vertical-align: middle;\n",
       "    }\n",
       "\n",
       "    .dataframe tbody tr th {\n",
       "        vertical-align: top;\n",
       "    }\n",
       "\n",
       "    .dataframe thead th {\n",
       "        text-align: right;\n",
       "    }\n",
       "</style>\n",
       "<table border=\"1\" class=\"dataframe\">\n",
       "  <thead>\n",
       "    <tr style=\"text-align: right;\">\n",
       "      <th></th>\n",
       "      <th>gross</th>\n",
       "      <th>adj_gross</th>\n",
       "      <th>artist</th>\n",
       "      <th>tour</th>\n",
       "      <th>year</th>\n",
       "      <th>shows</th>\n",
       "      <th>avg_gross</th>\n",
       "    </tr>\n",
       "  </thead>\n",
       "  <tbody>\n",
       "    <tr>\n",
       "      <th>0</th>\n",
       "      <td>780000000</td>\n",
       "      <td>780000000</td>\n",
       "      <td>Taylor Swift</td>\n",
       "      <td>The Eras Tour †</td>\n",
       "      <td>2024</td>\n",
       "      <td>56</td>\n",
       "      <td>13928571</td>\n",
       "    </tr>\n",
       "    <tr>\n",
       "      <th>1</th>\n",
       "      <td>579800000</td>\n",
       "      <td>579800000</td>\n",
       "      <td>Beyoncé</td>\n",
       "      <td>Renaissance World Tour</td>\n",
       "      <td>2023</td>\n",
       "      <td>56</td>\n",
       "      <td>10353571</td>\n",
       "    </tr>\n",
       "    <tr>\n",
       "      <th>2</th>\n",
       "      <td>411000000</td>\n",
       "      <td>560622615</td>\n",
       "      <td>Madonna</td>\n",
       "      <td>Sticky &amp; Sweet Tour ‡[4][a]</td>\n",
       "      <td>2009</td>\n",
       "      <td>85</td>\n",
       "      <td>4835294</td>\n",
       "    </tr>\n",
       "    <tr>\n",
       "      <th>3</th>\n",
       "      <td>397300000</td>\n",
       "      <td>454751555</td>\n",
       "      <td>Pink</td>\n",
       "      <td>Beautiful Trauma World Tour</td>\n",
       "      <td>2019</td>\n",
       "      <td>156</td>\n",
       "      <td>2546795</td>\n",
       "    </tr>\n",
       "    <tr>\n",
       "      <th>4</th>\n",
       "      <td>345675146</td>\n",
       "      <td>402844849</td>\n",
       "      <td>Taylor Swift</td>\n",
       "      <td>Reputation Stadium Tour</td>\n",
       "      <td>2018</td>\n",
       "      <td>53</td>\n",
       "      <td>6522173</td>\n",
       "    </tr>\n",
       "  </tbody>\n",
       "</table>\n",
       "</div>"
      ],
      "text/plain": [
       "       gross  adj_gross        artist                         tour  year  \\\n",
       "0  780000000  780000000  Taylor Swift              The Eras Tour †  2024   \n",
       "1  579800000  579800000       Beyoncé       Renaissance World Tour  2023   \n",
       "2  411000000  560622615       Madonna  Sticky & Sweet Tour ‡[4][a]  2009   \n",
       "3  397300000  454751555          Pink  Beautiful Trauma World Tour  2019   \n",
       "4  345675146  402844849  Taylor Swift      Reputation Stadium Tour  2018   \n",
       "\n",
       "   shows  avg_gross  \n",
       "0     56   13928571  \n",
       "1     56   10353571  \n",
       "2     85    4835294  \n",
       "3    156    2546795  \n",
       "4     53    6522173  "
      ]
     },
     "execution_count": 37,
     "metadata": {},
     "output_type": "execute_result"
    }
   ],
   "source": [
    "df.head()"
   ]
  },
  {
   "cell_type": "code",
   "execution_count": 38,
   "id": "7a5a7679-bd74-40a8-9ef3-fc25fbc19752",
   "metadata": {},
   "outputs": [],
   "source": [
    "df.to_excel('Tour_cleaned.xlsx')"
   ]
  },
  {
   "cell_type": "markdown",
   "id": "ed1da5de-47a6-4f00-9442-764d93fa1294",
   "metadata": {},
   "source": [
    "EXPLORATORY DATA ANALYSIS (EDA)"
   ]
  },
  {
   "cell_type": "code",
   "execution_count": 40,
   "id": "2d319e80-2bdc-4c49-b98c-a587b5e8ba2c",
   "metadata": {},
   "outputs": [
    {
     "data": {
      "text/html": [
       "<div>\n",
       "<style scoped>\n",
       "    .dataframe tbody tr th:only-of-type {\n",
       "        vertical-align: middle;\n",
       "    }\n",
       "\n",
       "    .dataframe tbody tr th {\n",
       "        vertical-align: top;\n",
       "    }\n",
       "\n",
       "    .dataframe thead th {\n",
       "        text-align: right;\n",
       "    }\n",
       "</style>\n",
       "<table border=\"1\" class=\"dataframe\">\n",
       "  <thead>\n",
       "    <tr style=\"text-align: right;\">\n",
       "      <th></th>\n",
       "      <th>gross</th>\n",
       "      <th>adj_gross</th>\n",
       "      <th>shows</th>\n",
       "      <th>avg_gross</th>\n",
       "    </tr>\n",
       "  </thead>\n",
       "  <tbody>\n",
       "    <tr>\n",
       "      <th>count</th>\n",
       "      <td>20.0</td>\n",
       "      <td>20.0</td>\n",
       "      <td>20.0</td>\n",
       "      <td>20.0</td>\n",
       "    </tr>\n",
       "    <tr>\n",
       "      <th>mean</th>\n",
       "      <td>287950903.2</td>\n",
       "      <td>343878092.0</td>\n",
       "      <td>110.0</td>\n",
       "      <td>3726571.2</td>\n",
       "    </tr>\n",
       "    <tr>\n",
       "      <th>std</th>\n",
       "      <td>156328421.0</td>\n",
       "      <td>151462683.7</td>\n",
       "      <td>66.5</td>\n",
       "      <td>3393339.6</td>\n",
       "    </tr>\n",
       "    <tr>\n",
       "      <th>min</th>\n",
       "      <td>150000000.0</td>\n",
       "      <td>185423109.0</td>\n",
       "      <td>41.0</td>\n",
       "      <td>615385.0</td>\n",
       "    </tr>\n",
       "    <tr>\n",
       "      <th>25%</th>\n",
       "      <td>191500000.0</td>\n",
       "      <td>245755688.2</td>\n",
       "      <td>59.0</td>\n",
       "      <td>1647508.0</td>\n",
       "    </tr>\n",
       "    <tr>\n",
       "      <th>50%</th>\n",
       "      <td>239750000.0</td>\n",
       "      <td>297488872.0</td>\n",
       "      <td>87.0</td>\n",
       "      <td>2342100.0</td>\n",
       "    </tr>\n",
       "    <tr>\n",
       "      <th>75%</th>\n",
       "      <td>315287558.8</td>\n",
       "      <td>392445084.2</td>\n",
       "      <td>134.5</td>\n",
       "      <td>4933024.2</td>\n",
       "    </tr>\n",
       "    <tr>\n",
       "      <th>max</th>\n",
       "      <td>780000000.0</td>\n",
       "      <td>780000000.0</td>\n",
       "      <td>325.0</td>\n",
       "      <td>13928571.0</td>\n",
       "    </tr>\n",
       "  </tbody>\n",
       "</table>\n",
       "</div>"
      ],
      "text/plain": [
       "             gross    adj_gross  shows   avg_gross\n",
       "count         20.0         20.0   20.0        20.0\n",
       "mean   287950903.2  343878092.0  110.0   3726571.2\n",
       "std    156328421.0  151462683.7   66.5   3393339.6\n",
       "min    150000000.0  185423109.0   41.0    615385.0\n",
       "25%    191500000.0  245755688.2   59.0   1647508.0\n",
       "50%    239750000.0  297488872.0   87.0   2342100.0\n",
       "75%    315287558.8  392445084.2  134.5   4933024.2\n",
       "max    780000000.0  780000000.0  325.0  13928571.0"
      ]
     },
     "execution_count": 40,
     "metadata": {},
     "output_type": "execute_result"
    }
   ],
   "source": [
    "#Summary report \n",
    "df.describe().round(1)"
   ]
  },
  {
   "cell_type": "code",
   "execution_count": 140,
   "id": "4b4500e5-e63f-4ae2-8dbd-22ab2b10f028",
   "metadata": {},
   "outputs": [
    {
     "data": {
      "image/png": "[encoded data removed]",
      "text/plain": [
       "<Figure size 640x480 with 1 Axes>"
      ]
     },
     "metadata": {},
     "output_type": "display_data"
    }
   ],
   "source": [
    "#Earning Per Year \n",
    "x =df.avg_gross\n",
    "y = df.year\n",
    "\n",
    "plt.bar(y, x, color ='purple')\n",
    "\n",
    "plt.xticks(rotation=45)\n",
    "plt.title('Earnings Per Year')\n",
    "\n",
    "plt.ylabel('Earning Per Year')\n",
    "\n",
    "plt.xlabel('Year')\n",
    "\n",
    "plt.show()\n"
   ]
  },
  {
   "cell_type": "code",
   "execution_count": 116,
   "id": "eb81c223-5daf-4871-ba05-5bfd18a4f7be",
   "metadata": {},
   "outputs": [
    {
     "data": {
      "text/html": [
       "<div>\n",
       "<style scoped>\n",
       "    .dataframe tbody tr th:only-of-type {\n",
       "        vertical-align: middle;\n",
       "    }\n",
       "\n",
       "    .dataframe tbody tr th {\n",
       "        vertical-align: top;\n",
       "    }\n",
       "\n",
       "    .dataframe thead th {\n",
       "        text-align: right;\n",
       "    }\n",
       "</style>\n",
       "<table border=\"1\" class=\"dataframe\">\n",
       "  <thead>\n",
       "    <tr style=\"text-align: right;\">\n",
       "      <th></th>\n",
       "      <th>artist</th>\n",
       "      <th>avg_gross</th>\n",
       "    </tr>\n",
       "  </thead>\n",
       "  <tbody>\n",
       "    <tr>\n",
       "      <th>8</th>\n",
       "      <td>Taylor Swift</td>\n",
       "      <td>25140812</td>\n",
       "    </tr>\n",
       "    <tr>\n",
       "      <th>1</th>\n",
       "      <td>Beyoncé</td>\n",
       "      <td>17315392</td>\n",
       "    </tr>\n",
       "    <tr>\n",
       "      <th>6</th>\n",
       "      <td>Madonna</td>\n",
       "      <td>13607068</td>\n",
       "    </tr>\n",
       "    <tr>\n",
       "      <th>7</th>\n",
       "      <td>Pink</td>\n",
       "      <td>10125497</td>\n",
       "    </tr>\n",
       "    <tr>\n",
       "      <th>5</th>\n",
       "      <td>Lady Gaga</td>\n",
       "      <td>2852921</td>\n",
       "    </tr>\n",
       "    <tr>\n",
       "      <th>2</th>\n",
       "      <td>Celine Dion</td>\n",
       "      <td>2137405</td>\n",
       "    </tr>\n",
       "    <tr>\n",
       "      <th>0</th>\n",
       "      <td>Adele</td>\n",
       "      <td>1385950</td>\n",
       "    </tr>\n",
       "    <tr>\n",
       "      <th>4</th>\n",
       "      <td>Katy Perry</td>\n",
       "      <td>1350993</td>\n",
       "    </tr>\n",
       "    <tr>\n",
       "      <th>3</th>\n",
       "      <td>Cher</td>\n",
       "      <td>615385</td>\n",
       "    </tr>\n",
       "  </tbody>\n",
       "</table>\n",
       "</div>"
      ],
      "text/plain": [
       "         artist  avg_gross\n",
       "8  Taylor Swift   25140812\n",
       "1       Beyoncé   17315392\n",
       "6       Madonna   13607068\n",
       "7          Pink   10125497\n",
       "5     Lady Gaga    2852921\n",
       "2   Celine Dion    2137405\n",
       "0         Adele    1385950\n",
       "4    Katy Perry    1350993\n",
       "3          Cher     615385"
      ]
     },
     "execution_count": 116,
     "metadata": {},
     "output_type": "execute_result"
    }
   ],
   "source": [
    "#Earning Per Artist \n",
    "df.groupby('artist')[['avg_gross']].sum().reset_index().sort_values(by='avg_gross', ascending=False)"
   ]
  },
  {
   "cell_type": "code",
   "execution_count": 134,
   "id": "6798fcf2-78ad-4c24-8020-ebb0f8b5e2bc",
   "metadata": {},
   "outputs": [
    {
     "data": {
      "image/png": "[encoded data removed]",
      "text/plain": [
       "<Figure size 640x480 with 1 Axes>"
      ]
     },
     "metadata": {},
     "output_type": "display_data"
    }
   ],
   "source": [
    "#Earning Per Artist Visuals\n",
    "x =df.avg_gross\n",
    "y = df.artist\n",
    "\n",
    "plt.bar(y, x, color ='Brown')\n",
    "\n",
    "plt.xticks(rotation=45)\n",
    "plt.title('Earnings Per Artist  ')\n",
    "\n",
    "plt.ylabel('Earning Per Year')\n",
    "\n",
    "plt.xlabel('Artist')\n",
    "\n",
    "plt.show()"
   ]
  },
  {
   "cell_type": "code",
   "execution_count": 144,
   "id": "771ad9b4-4806-4a60-bcbc-4ee417d70923",
   "metadata": {},
   "outputs": [
    {
     "data": {
      "text/plain": [
       "<Axes: xlabel='shows', ylabel='avg_gross'>"
      ]
     },
     "execution_count": 144,
     "metadata": {},
     "output_type": "execute_result"
    },
    {
     "data": {
      "image/png": "[encoded data removed]",
      "text/plain": [
       "<Figure size 640x480 with 1 Axes>"
      ]
     },
     "metadata": {},
     "output_type": "display_data"
    }
   ],
   "source": [
    "#Impact of shows on earning\n",
    "sns.regplot(x= 'shows', y= 'avg_gross', data = df)"
   ]
  },
  {
   "cell_type": "code",
   "execution_count": null,
   "id": "a904c7f8-ccc3-41ba-a2fb-394984483b88",
   "metadata": {},
   "outputs": [],
   "source": []
  }
 ],
 "metadata": {
  "kernelspec": {
   "display_name": "Python 3 (ipykernel)",
   "language": "python",
   "name": "python3"
  },
  "language_info": {
   "codemirror_mode": {
    "name": "ipython",
    "version": 3
   },
   "file_extension": ".py",
   "mimetype": "text/x-python",
   "name": "python",
   "nbconvert_exporter": "python",
   "pygments_lexer": "ipython3",
   "version": "3.12.4"
  }
 },
 "nbformat": 4,
 "nbformat_minor": 5
}
