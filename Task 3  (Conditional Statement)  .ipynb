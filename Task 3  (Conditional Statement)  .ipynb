{
 "cells": [
  {
   "cell_type": "markdown",
   "id": "e1395d90-d30e-4da3-9c37-51e66ed92945",
   "metadata": {},
   "source": [
    "Task 3 on Conditional Statement  "
   ]
  },
  {
   "cell_type": "code",
   "execution_count": 3,
   "id": "0bc78e66-7c24-4491-97f5-fbea0556729b",
   "metadata": {},
   "outputs": [],
   "source": [
    "Temperature_In_Celsius = -170"
   ]
  },
  {
   "cell_type": "code",
   "execution_count": 15,
   "id": "099a318a-0437-498e-85fa-569aaa8acead",
   "metadata": {},
   "outputs": [
    {
     "name": "stdout",
     "output_type": "stream",
     "text": [
      "Temperature is invalid\n"
     ]
    }
   ],
   "source": [
    "#(a) If the temperature is less than -273.15, print that the temperature is invalid\n",
    "Temperature_In_Celsius = -170\n",
    "if Temperature_In_Celsius < -273.15: \n",
    "\tprint('Temperature is invalid') \n",
    "print('Temperature is invalid') \n"
   ]
  },
  {
   "cell_type": "code",
   "execution_count": 15,
   "id": "a95dc5e6-08d2-45e4-8507-f03440899c8a",
   "metadata": {},
   "outputs": [
    {
     "name": "stdout",
     "output_type": "stream",
     "text": [
      "Temperature is not absolute 0\n"
     ]
    }
   ],
   "source": [
    "#(b)If it is exactly -273.15, print that the temperature is absolute 0.\n",
    "Temperature_In_Celsius = -170\n",
    "if Temperature_In_Celsius == -273.15: \n",
    "\tprint('Temperature is absolute 0') \n",
    "else: \n",
    "\tprint('Temperature is not absolute 0') "
   ]
  },
  {
   "cell_type": "code",
   "execution_count": 81,
   "id": "f156c5cd-0726-4341-a47a-ad3230d6194c",
   "metadata": {},
   "outputs": [
    {
     "name": "stdout",
     "output_type": "stream",
     "text": [
      "Temperature is not below freezing\n"
     ]
    }
   ],
   "source": [
    "#(c)If the temperature is between -273.15 and 0, print that the temperature is below freezing.\n",
    "Temperature_In_Celsius = -170\n",
    "if Temperature_In_Celsius == -273.15<= celsius <= 0:\n",
    "\tprint('Temperature is below freezing') \n",
    "else: \n",
    "\tprint('Temperature is not below freezing') "
   ]
  },
  {
   "cell_type": "code",
   "execution_count": 29,
   "id": "24de9919-892c-4444-9747-8a20322316ce",
   "metadata": {},
   "outputs": [
    {
     "name": "stdout",
     "output_type": "stream",
     "text": [
      "Temperature is not at freezing point\n"
     ]
    }
   ],
   "source": [
    "#(d) If it is 0, print that the temperature is at the freezing point.\n",
    "Temperature_In_Celsius = - 170\n",
    "if Temperature_In_Celsius == 0: \n",
    "\tprint('Temperature is at the freezing point') \n",
    "else: \n",
    "\tprint('Temperature is not at freezing point') "
   ]
  },
  {
   "cell_type": "code",
   "execution_count": 77,
   "id": "fa843e14-a51b-4267-b3f7-aa809f334b9d",
   "metadata": {},
   "outputs": [
    {
     "name": "stdout",
     "output_type": "stream",
     "text": [
      "Temperature is not at normal range\n"
     ]
    }
   ],
   "source": [
    "#(e)If it is between 0 and 100, print that the temperature is in the normal range\n",
    "Temperature_In_Celsius = -170\n",
    "if Temperature_In_Celsius == 100>= celsius >= 0:\n",
    "\tprint('Temperature is at normal range') \n",
    "else: \n",
    "\tprint('Temperature is not at normal range') "
   ]
  },
  {
   "cell_type": "code",
   "execution_count": 79,
   "id": "470ab939-76b3-428f-8640-e77d59f3606e",
   "metadata": {},
   "outputs": [
    {
     "name": "stdout",
     "output_type": "stream",
     "text": [
      "Temperature is not at boiling point\n"
     ]
    }
   ],
   "source": [
    "#(f) If it is 100, print that the temperature is at the boiling point.\n",
    "Temperature_In_Celsius =  -170\n",
    "if Temperature_In_Celsius == 100: \n",
    "\tprint('Temperature is at boiling point') \n",
    "else: \n",
    "\tprint('Temperature is not at boiling point') \n"
   ]
  },
  {
   "cell_type": "code",
   "execution_count": 49,
   "id": "abe7694d-c555-4250-aeb8-d970d63fd29a",
   "metadata": {},
   "outputs": [
    {
     "name": "stdout",
     "output_type": "stream",
     "text": [
      "Temperature is not above boiling point\n"
     ]
    }
   ],
   "source": [
    "#(f)  If it is above 100, print that the temperature is above the boiling point\n",
    "Temperature_In_Celsius =  -170\n",
    "if Temperature_In_Celsius > 100: \n",
    "\tprint('Temperature is above  boiling point') \n",
    "else: \n",
    "\tprint('Temperature is not above boiling point') "
   ]
  }
 ],
 "metadata": {
  "kernelspec": {
   "display_name": "Python 3 (ipykernel)",
   "language": "python",
   "name": "python3"
  },
  "language_info": {
   "codemirror_mode": {
    "name": "ipython",
    "version": 3
   },
   "file_extension": ".py",
   "mimetype": "text/x-python",
   "name": "python",
   "nbconvert_exporter": "python",
   "pygments_lexer": "ipython3",
   "version": "3.12.4"
  }
 },
 "nbformat": 4,
 "nbformat_minor": 5
}
