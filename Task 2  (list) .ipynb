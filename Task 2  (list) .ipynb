{
 "cells": [
  {
   "cell_type": "markdown",
   "id": "b4f2bc54-73f4-4f1f-ae63-b2ba08468753",
   "metadata": {},
   "source": [
    "Task 2 List "
   ]
  },
  {
   "cell_type": "code",
   "execution_count": 30,
   "id": "fbc3c336-3e26-44c4-a49a-97ddaaa8c56d",
   "metadata": {},
   "outputs": [
    {
     "data": {
      "text/plain": [
       "[8, 9, 10]"
      ]
     },
     "execution_count": 30,
     "metadata": {},
     "output_type": "execute_result"
    }
   ],
   "source": [
    "Task_list =[8,9,10]\n",
    "Task_list"
   ]
  },
  {
   "cell_type": "code",
   "execution_count": 32,
   "id": "f540adc1-9a46-454e-bd9f-f850cef0c74d",
   "metadata": {},
   "outputs": [
    {
     "name": "stdout",
     "output_type": "stream",
     "text": [
      "[8, 17, 10]\n"
     ]
    }
   ],
   "source": [
    "#(a) Set the second entry (index 1) to 17\n",
    "Task_list[1]=17\n",
    "print (Task_list)\n"
   ]
  },
  {
   "cell_type": "code",
   "execution_count": 37,
   "id": "8dc7a97b-3e64-49e6-9599-a0b625a416c0",
   "metadata": {},
   "outputs": [
    {
     "name": "stdout",
     "output_type": "stream",
     "text": [
      "[8, 17, 10, 4, 5, 6]\n"
     ]
    }
   ],
   "source": [
    "#(b) Add 4, 5, and 6 to the end of the list\n",
    "Task_list.extend([4,5,6])\n",
    "print (Task_list)"
   ]
  },
  {
   "cell_type": "code",
   "execution_count": 52,
   "id": "d25dc4d5-c970-42a4-944e-5977f2db5b6b",
   "metadata": {},
   "outputs": [
    {
     "data": {
      "text/plain": [
       "[17, 10, 4, 5, 6]"
      ]
     },
     "execution_count": 52,
     "metadata": {},
     "output_type": "execute_result"
    }
   ],
   "source": [
    "#(c) Removing the first entry from the list\n",
    "del Task_list[0]\n",
    "Task_list"
   ]
  },
  {
   "cell_type": "code",
   "execution_count": 74,
   "id": "e55ebe6d-cd16-45c8-bbd3-15abdd85b646",
   "metadata": {},
   "outputs": [
    {
     "data": {
      "text/plain": [
       "[4, 5, 6, 10, 17]"
      ]
     },
     "execution_count": 74,
     "metadata": {},
     "output_type": "execute_result"
    }
   ],
   "source": [
    "#(d) Sorting the list\n",
    "Task_list.sort()\n",
    "Task_list\n"
   ]
  },
  {
   "cell_type": "code",
   "execution_count": 76,
   "id": "d6137d3f-ff0f-4572-ba9a-9243ffafccca",
   "metadata": {},
   "outputs": [
    {
     "data": {
      "text/plain": [
       "[4, 5, 6, 10, 17, 4, 5, 6, 10, 17]"
      ]
     },
     "execution_count": 76,
     "metadata": {},
     "output_type": "execute_result"
    }
   ],
   "source": [
    "#(e) Double the list\n",
    "New_Task_list = Task_list + Task_list\n",
    "New_Task_list"
   ]
  },
  {
   "cell_type": "code",
   "execution_count": 78,
   "id": "469284dd-9f4e-49bb-b76f-2c45b100a2d9",
   "metadata": {},
   "outputs": [
    {
     "data": {
      "text/plain": [
       "[4, 5, 6, 25, 10, 17, 4, 5, 6, 10, 17]"
      ]
     },
     "execution_count": 78,
     "metadata": {},
     "output_type": "execute_result"
    }
   ],
   "source": [
    "#(f) Insert 25 at index 3\n",
    "New_Task_list.insert(3,25)\n",
    "New_Task_list\n"
   ]
  },
  {
   "cell_type": "code",
   "execution_count": null,
   "id": "ca990ea8-d48b-4198-9f8c-8177fab751a3",
   "metadata": {},
   "outputs": [],
   "source": []
  }
 ],
 "metadata": {
  "kernelspec": {
   "display_name": "Python 3 (ipykernel)",
   "language": "python",
   "name": "python3"
  },
  "language_info": {
   "codemirror_mode": {
    "name": "ipython",
    "version": 3
   },
   "file_extension": ".py",
   "mimetype": "text/x-python",
   "name": "python",
   "nbconvert_exporter": "python",
   "pygments_lexer": "ipython3",
   "version": "3.12.4"
  }
 },
 "nbformat": 4,
 "nbformat_minor": 5
}
