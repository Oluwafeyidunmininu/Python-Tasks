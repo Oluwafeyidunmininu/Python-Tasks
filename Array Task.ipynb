{
 "cells": [
  {
   "cell_type": "markdown",
   "id": "76943b71-f713-4d00-b5e7-44a1cad2349d",
   "metadata": {},
   "source": [
    "NumpyArrays"
   ]
  },
  {
   "cell_type": "code",
   "execution_count": 7,
   "id": "8558b5a7-6ab9-4b02-bd5c-dd77ee0b4f26",
   "metadata": {},
   "outputs": [],
   "source": [
    "import numpy as np"
   ]
  },
  {
   "cell_type": "code",
   "execution_count": 9,
   "id": "cfe3d7cc-19c2-404e-af07-a54a790793d5",
   "metadata": {},
   "outputs": [
    {
     "name": "stdout",
     "output_type": "stream",
     "text": [
      "[1 2 3 4]\n"
     ]
    }
   ],
   "source": [
    "#creating array \n",
    "#from a list \n",
    "arr = np.array([1,2,3,4])\n",
    "print(arr)"
   ]
  },
  {
   "cell_type": "code",
   "execution_count": 15,
   "id": "0512d349-a637-4590-a52c-fd644ad1eba2",
   "metadata": {},
   "outputs": [
    {
     "name": "stdout",
     "output_type": "stream",
     "text": [
      "[[1 2]\n",
      " [3 4]\n",
      " [4 5]]\n"
     ]
    }
   ],
   "source": [
    "#Multi-dimensional Arices)ray\n",
    "arr =np.array([[1,2],[3,4],[4,5]])\n",
    "print(arr)"
   ]
  },
  {
   "cell_type": "code",
   "execution_count": 17,
   "id": "1acf5dd5-755a-4745-a8a8-aa37b7e48ad7",
   "metadata": {},
   "outputs": [
    {
     "data": {
      "text/plain": [
       "array([0, 2, 4, 6, 8])"
      ]
     },
     "execution_count": 17,
     "metadata": {},
     "output_type": "execute_result"
    }
   ],
   "source": [
    "#using Built - in functions \n",
    "np.arange(0,10,2) #note last number is intervals"
   ]
  },
  {
   "cell_type": "code",
   "execution_count": 19,
   "id": "95cb5b30-a880-4d96-aa5e-40713f2d597a",
   "metadata": {},
   "outputs": [
    {
     "data": {
      "text/plain": [
       "array([0, 3, 6, 9])"
      ]
     },
     "execution_count": 19,
     "metadata": {},
     "output_type": "execute_result"
    }
   ],
   "source": [
    "#using Built - in functions \n",
    "np.arange(0,10,3)"
   ]
  },
  {
   "cell_type": "code",
   "execution_count": 21,
   "id": "8a76850c-8fee-45b5-9430-d2a527b895df",
   "metadata": {},
   "outputs": [
    {
     "name": "stdout",
     "output_type": "stream",
     "text": [
      "[3 4 5]\n"
     ]
    }
   ],
   "source": [
    "#Basic Operations on Arrays\n",
    "\n",
    "#arithmetic operatiions \n",
    "arr =np.array([1,2,3])\n",
    "print(arr+2) # 2 was added to all values "
   ]
  },
  {
   "cell_type": "code",
   "execution_count": 29,
   "id": "4101c6ad-d0b9-4076-a02b-58a6f0f6fe59",
   "metadata": {},
   "outputs": [
    {
     "name": "stdout",
     "output_type": "stream",
     "text": [
      "[[11 14]\n",
      " [27 34]]\n"
     ]
    }
   ],
   "source": [
    "#Mathematical Functions \n",
    "#linear Algebra \n",
    "arr1= np.array([[1,2],[3,4]])\n",
    "arr2 = np.array( [[5,6],[3,4]])\n",
    "print(np.dot(arr1,arr2))"
   ]
  },
  {
   "cell_type": "code",
   "execution_count": 33,
   "id": "18f40470-9f1b-4024-9bf3-7ca1147a3a1b",
   "metadata": {},
   "outputs": [
    {
     "name": "stdout",
     "output_type": "stream",
     "text": [
      "[20 30 40]\n"
     ]
    }
   ],
   "source": [
    "#slicing \n",
    "arr=np.array([10,20,30,40,50])\n",
    "print(arr[1:4])"
   ]
  },
  {
   "cell_type": "code",
   "execution_count": 39,
   "id": "f73bb6ec-01cf-41cd-9d20-f3d4b467f21a",
   "metadata": {},
   "outputs": [
    {
     "name": "stdout",
     "output_type": "stream",
     "text": [
      "[[1 2 3]\n",
      " [4 5 6]\n",
      " [7 8 9]]\n"
     ]
    }
   ],
   "source": [
    "#Multi dimensional \n",
    "arr3 = np.array([[1,2,3],[4,5,6],[7,8,9]])\n",
    "print(arr3)"
   ]
  },
  {
   "cell_type": "code",
   "execution_count": 41,
   "id": "1b2a4b12-d868-4a1f-ba71-e7704636e031",
   "metadata": {},
   "outputs": [
    {
     "name": "stdout",
     "output_type": "stream",
     "text": [
      "6\n"
     ]
    }
   ],
   "source": [
    "print(arr3[1,2]) #note  1 is row and 2 is column "
   ]
  },
  {
   "cell_type": "code",
   "execution_count": 47,
   "id": "5a240a18-4054-44fd-ac6c-cf985668581d",
   "metadata": {},
   "outputs": [
    {
     "name": "stdout",
     "output_type": "stream",
     "text": [
      "[2 5 8]\n"
     ]
    }
   ],
   "source": [
    "print (arr3[:,1])"
   ]
  },
  {
   "cell_type": "code",
   "execution_count": 49,
   "id": "a6f9fd9a-8f00-4953-996b-2a5df1c4272f",
   "metadata": {},
   "outputs": [
    {
     "name": "stdout",
     "output_type": "stream",
     "text": [
      "[[1 2 5 6]\n",
      " [3 4 3 4]]\n"
     ]
    }
   ],
   "source": [
    "#Stacking and splitiing arrays \n",
    "#Horizontal Stacking (along columns):\n",
    "print (np.hstack((arr1, arr2)))"
   ]
  },
  {
   "cell_type": "code",
   "execution_count": 51,
   "id": "da15ecb4-710a-4f55-ab79-4a5e409bbf30",
   "metadata": {},
   "outputs": [
    {
     "name": "stdout",
     "output_type": "stream",
     "text": [
      "[[1 2]\n",
      " [3 4]\n",
      " [5 6]\n",
      " [3 4]]\n"
     ]
    }
   ],
   "source": [
    "#Vertical  Stacking (along columns):\n",
    "print (np.vstack((arr1, arr2)))"
   ]
  },
  {
   "cell_type": "code",
   "execution_count": 71,
   "id": "347bbf82-5653-49f5-b30a-84c595a1a1ea",
   "metadata": {},
   "outputs": [
    {
     "name": "stdout",
     "output_type": "stream",
     "text": [
      "[array([1, 2]), array([3, 4]), array([5, 6])]\n"
     ]
    }
   ],
   "source": [
    "#splitting:\n",
    "arr4 = np.array([1,2,3,4,5,6])\n",
    "print (np.split(arr4, 3))"
   ]
  },
  {
   "cell_type": "code",
   "execution_count": 90,
   "id": "80e31e7a-6158-4bd6-949b-4f5a9a74665f",
   "metadata": {},
   "outputs": [
    {
     "name": "stdout",
     "output_type": "stream",
     "text": [
      "[[2 4 6]\n",
      " [5 7 9]]\n"
     ]
    }
   ],
   "source": [
    "#Broadcaasting\n",
    "arr1 = np.array([[1, 2, 3], [4, 5, 6]]) \n",
    "arr2 = np.array([1, 2, 3]) \n",
    "print(arr1 + arr2)\n"
   ]
  },
  {
   "cell_type": "code",
   "execution_count": null,
   "id": "dc61c2d9-2756-4c14-8f1b-2d5500d6e529",
   "metadata": {},
   "outputs": [],
   "source": []
  }
 ],
 "metadata": {
  "kernelspec": {
   "display_name": "Python 3 (ipykernel)",
   "language": "python",
   "name": "python3"
  },
  "language_info": {
   "codemirror_mode": {
    "name": "ipython",
    "version": 3
   },
   "file_extension": ".py",
   "mimetype": "text/x-python",
   "name": "python",
   "nbconvert_exporter": "python",
   "pygments_lexer": "ipython3",
   "version": "3.12.4"
  }
 },
 "nbformat": 4,
 "nbformat_minor": 5
}
