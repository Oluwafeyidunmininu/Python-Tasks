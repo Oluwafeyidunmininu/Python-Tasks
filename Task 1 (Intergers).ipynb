{
 "cells": [
  {
   "cell_type": "markdown",
   "id": "0c8ad19a-a4ca-40e8-8d84-713029b0ba20",
   "metadata": {},
   "source": [
    "Task 1 "
   ]
  },
  {
   "cell_type": "code",
   "execution_count": 10,
   "id": "9580ad02-5ebf-4a23-ae89-8e8a0159d08d",
   "metadata": {},
   "outputs": [
    {
     "name": "stdout",
     "output_type": "stream",
     "text": [
      "[1, 2, 3, 4, 5]\n"
     ]
    }
   ],
   "source": [
    "#list of integers \n",
    "My_list = [1,2,3,4,5]\n",
    "print(My_list)"
   ]
  },
  {
   "cell_type": "code",
   "execution_count": 12,
   "id": "0ebaf317-9bb2-4d0c-afcf-a16e3aa2a37e",
   "metadata": {},
   "outputs": [
    {
     "data": {
      "text/plain": [
       "15"
      ]
     },
     "execution_count": 12,
     "metadata": {},
     "output_type": "execute_result"
    }
   ],
   "source": [
    "#(a) Printing the total number of items of list \n",
    "sum(My_list)"
   ]
  },
  {
   "cell_type": "code",
   "execution_count": 14,
   "id": "160c7888-4051-4a17-b292-35476564e134",
   "metadata": {},
   "outputs": [
    {
     "name": "stdout",
     "output_type": "stream",
     "text": [
      "5\n"
     ]
    }
   ],
   "source": [
    "#(b) printing the last item in the list\n",
    "print(My_list[-1])"
   ]
  },
  {
   "cell_type": "code",
   "execution_count": 16,
   "id": "9b66af14-f403-47b6-9c67-313e289ebf66",
   "metadata": {},
   "outputs": [
    {
     "name": "stdout",
     "output_type": "stream",
     "text": [
      "[5, 4, 3, 2, 1]\n"
     ]
    }
   ],
   "source": [
    "#(c) Print the list in reverse other \n",
    "My_list.reverse()\n",
    "print(My_list)"
   ]
  },
  {
   "cell_type": "code",
   "execution_count": 18,
   "id": "df39bac8-82b1-4068-8c94-e549d03ad893",
   "metadata": {},
   "outputs": [
    {
     "name": "stdout",
     "output_type": "stream",
     "text": [
      "Yes\n"
     ]
    }
   ],
   "source": [
    "#(d) Printing yes if the list  contains  a 5 and no otherwise \n",
    "My_list\n",
    "print ('Yes' if 5 in My_list  else 'No')"
   ]
  },
  {
   "cell_type": "code",
   "execution_count": 20,
   "id": "f4325e70-4328-441d-9755-45a8518f3c03",
   "metadata": {},
   "outputs": [
    {
     "data": {
      "text/plain": [
       "1"
      ]
     },
     "execution_count": 20,
     "metadata": {},
     "output_type": "execute_result"
    }
   ],
   "source": [
    "#(e) Printing  the number of fives in the list.\n",
    "My_list.count(5)"
   ]
  },
  {
   "cell_type": "code",
   "execution_count": 36,
   "id": "ae51d1db-68de-4d3b-99a9-7518b9155245",
   "metadata": {},
   "outputs": [
    {
     "name": "stdout",
     "output_type": "stream",
     "text": [
      "[4, 3, 2]\n"
     ]
    }
   ],
   "source": [
    "#(f) Removing the first and last items from the list, sort the remaining items, and print the result.\n",
    "New_list=My_list[1:-1]\n",
    "New_list.sort\n",
    "print(New_list)\n"
   ]
  },
  {
   "cell_type": "code",
   "execution_count": 42,
   "id": "18e0bdb5-e0f3-4e07-9380-11293f93e9e2",
   "metadata": {},
   "outputs": [
    {
     "name": "stdout",
     "output_type": "stream",
     "text": [
      "Integers less than 5: 3\n"
     ]
    }
   ],
   "source": [
    "#(g) Print how many integers in the list are less than 5.\n",
    "New_list\n",
    "count = sum(1 for num in New_list if num < 5)\n",
    "print(\"Integers less than 5:\", count)"
   ]
  }
 ],
 "metadata": {
  "kernelspec": {
   "display_name": "Python 3 (ipykernel)",
   "language": "python",
   "name": "python3"
  },
  "language_info": {
   "codemirror_mode": {
    "name": "ipython",
    "version": 3
   },
   "file_extension": ".py",
   "mimetype": "text/x-python",
   "name": "python",
   "nbconvert_exporter": "python",
   "pygments_lexer": "ipython3",
   "version": "3.12.4"
  }
 },
 "nbformat": 4,
 "nbformat_minor": 5
}
